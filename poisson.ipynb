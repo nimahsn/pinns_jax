{
 "cells": [
  {
   "cell_type": "code",
   "execution_count": 1,
   "metadata": {
    "ExecuteTime": {
     "end_time": "2023-09-07T18:47:15.942038363Z",
     "start_time": "2023-09-07T18:47:15.350527903Z"
    }
   },
   "outputs": [],
   "source": [
    "import numpy as np\n",
    "import jax\n",
    "import jax.numpy as jnp\n",
    "from jax import random, grad, jit, vmap, lax, jacfwd, jacrev, value_and_grad\n",
    "from functools import partial\n",
    "import matplotlib.pyplot as plt"
   ]
  },
  {
   "cell_type": "code",
   "execution_count": 2,
   "metadata": {
    "ExecuteTime": {
     "end_time": "2023-09-07T18:47:16.695694237Z",
     "start_time": "2023-09-07T18:47:16.688236279Z"
    }
   },
   "outputs": [],
   "source": [
    "def init_MLP(layers, key, activation=jax.nn.tanh):\n",
    "    keys = random.split(key, len(layers)-1)\n",
    "    params = []\n",
    "    for in_w, out_w, key in zip(layers[:-1], layers[1:], keys):\n",
    "        w = random.normal(key, (in_w, out_w), dtype=jnp.float32) * jnp.sqrt(2 / (in_w + out_w))\n",
    "        b = jnp.zeros(out_w, dtype=jnp.float32)\n",
    "        params.append((w, b))\n",
    "\n",
    "    def _MLP(params, x):\n",
    "        for w, b in params[:-1]:\n",
    "            x = activation(jnp.dot(x, w) + b)\n",
    "        w, b = params[-1]\n",
    "        return jnp.dot(x, w) + b\n",
    "\n",
    "    return params, _MLP\n"
   ]
  },
  {
   "cell_type": "code",
   "execution_count": 3,
   "metadata": {
    "ExecuteTime": {
     "end_time": "2023-09-07T18:48:43.431618350Z",
     "start_time": "2023-09-07T18:48:43.062622456Z"
    }
   },
   "outputs": [
    {
     "name": "stderr",
     "output_type": "stream",
     "text": [
      "CUDA backend failed to initialize: Unable to load cuSOLVER. (Set TF_CPP_MIN_LOG_LEVEL=0 and rerun for more info.)\n"
     ]
    },
    {
     "data": {
      "text/plain": [
       "[((1, 64), (64,)),\n",
       " ((64, 64), (64,)),\n",
       " ((64, 64), (64,)),\n",
       " ((64, 64), (64,)),\n",
       " ((64, 64), (64,)),\n",
       " ((64, 64), (64,)),\n",
       " ((64, 1), (1,))]"
      ]
     },
     "execution_count": 3,
     "metadata": {},
     "output_type": "execute_result"
    }
   ],
   "source": [
    "seed = 0\n",
    "key = random.PRNGKey(seed)\n",
    "layers = [1, 64, 64, 64, 64, 64, 64, 1]\n",
    "params, mlp = init_MLP(layers, key)\n",
    "jax.tree_map(lambda x: x.shape, params)"
   ]
  },
  {
   "cell_type": "code",
   "execution_count": 4,
   "metadata": {
    "ExecuteTime": {
     "end_time": "2023-09-07T18:48:45.146635155Z",
     "start_time": "2023-09-07T18:48:45.141377769Z"
    }
   },
   "outputs": [],
   "source": [
    "laplace_operator = vmap(jacfwd(jacfwd(mlp, argnums=1), argnums=1), in_axes=(None, 0))\n",
    "forward = vmap(mlp, in_axes=(None, 0))\n",
    "\n",
    "def loss_boundary(params, x, y):\n",
    "    u = forward(params, x)\n",
    "    return jnp.mean((u - y)**2)\n",
    "\n",
    "def loss_residual(params, x, y):\n",
    "    laplace = laplace_operator(params, x)[:, 0, 0]\n",
    "    return jnp.mean((laplace - y)**2)\n",
    "\n",
    "def loss_total(params, x_colloc, x_bndry, y_colloc, y_bndry):\n",
    "    return loss_boundary(params, x_bndry, y_bndry) + loss_residual(params, x_colloc, y_colloc)\n",
    "\n",
    "@jit\n",
    "def update(params, opt_state, lr, momentum, x_colloc, x_bndry, y_colloc, y_residual):\n",
    "    loss, grads = value_and_grad(loss_total)(params, x_colloc, x_bndry, y_colloc, y_residual)\n",
    "    opt_state = jax.tree_map(lambda avg_g, g: momentum * avg_g + (1 - momentum) * g, opt_state, grads)\n",
    "    new_params = jax.tree_map(lambda p, g: p - lr * g, params, opt_state)\n",
    "    # print(grads)\n",
    "    return new_params, opt_state, loss\n",
    "        "
   ]
  },
  {
   "cell_type": "code",
   "execution_count": 5,
   "metadata": {
    "ExecuteTime": {
     "end_time": "2023-09-07T18:48:45.682851412Z",
     "start_time": "2023-09-07T18:48:45.641482726Z"
    }
   },
   "outputs": [],
   "source": [
    "x_colloc = jnp.linspace(0, 1, 1000, dtype=jnp.float32).reshape(-1, 1)\n",
    "y_colloc = -(jnp.pi * 4.) ** 2 * jnp.sin(jnp.pi * 4. * x_colloc)\n",
    "u_exact = jnp.sin(jnp.pi * 4. * x_colloc)\n",
    "x_bndry = jnp.array([0., 1.], dtype=jnp.float32).reshape(-1, 1)\n",
    "y_bndry = jnp.zeros((2, 1), dtype=jnp.float32)"
   ]
  },
  {
   "cell_type": "code",
   "execution_count": 6,
   "metadata": {
    "ExecuteTime": {
     "end_time": "2023-09-07T18:48:45.974911935Z",
     "start_time": "2023-09-07T18:48:45.971413927Z"
    }
   },
   "outputs": [],
   "source": [
    "# jnp.mean((laplace_operator(params, x_colloc)[:, 0, 0] - y_colloc)**2)"
   ]
  },
  {
   "cell_type": "code",
   "execution_count": 7,
   "metadata": {},
   "outputs": [],
   "source": [
    "g = grad(loss_residual)(params, x_colloc, y_colloc)"
   ]
  },
  {
   "cell_type": "code",
   "execution_count": 8,
   "metadata": {},
   "outputs": [
    {
     "data": {
      "text/plain": [
       "(1, 64)"
      ]
     },
     "execution_count": 8,
     "metadata": {},
     "output_type": "execute_result"
    }
   ],
   "source": [
    "g[0][0].shape"
   ]
  },
  {
   "cell_type": "code",
   "execution_count": null,
   "metadata": {},
   "outputs": [],
   "source": []
  },
  {
   "cell_type": "code",
   "execution_count": null,
   "metadata": {},
   "outputs": [],
   "source": []
  },
  {
   "cell_type": "code",
   "execution_count": null,
   "metadata": {},
   "outputs": [],
   "source": []
  },
  {
   "cell_type": "code",
   "execution_count": null,
   "metadata": {},
   "outputs": [],
   "source": []
  },
  {
   "cell_type": "code",
   "execution_count": null,
   "metadata": {},
   "outputs": [],
   "source": []
  },
  {
   "cell_type": "code",
   "execution_count": 10,
   "metadata": {
    "ExecuteTime": {
     "end_time": "2023-09-07T18:50:48.947545032Z",
     "start_time": "2023-09-07T18:48:46.280720760Z"
    }
   },
   "outputs": [
    {
     "name": "stdout",
     "output_type": "stream",
     "text": [
      "Epoch 0, Loss 0.0099\n"
     ]
    },
    {
     "ename": "KeyboardInterrupt",
     "evalue": "",
     "output_type": "error",
     "traceback": [
      "\u001b[0;31m---------------------------------------------------------------------------\u001b[0m",
      "\u001b[0;31mKeyboardInterrupt\u001b[0m                         Traceback (most recent call last)",
      "\u001b[1;32m/home/nimahsn/Documents/pinns_jax/poisson.ipynb Cell 14\u001b[0m line \u001b[0;36m6\n\u001b[1;32m      <a href='vscode-notebook-cell:/home/nimahsn/Documents/pinns_jax/poisson.ipynb#X16sZmlsZQ%3D%3D?line=3'>4</a>\u001b[0m opt_state \u001b[39m=\u001b[39m jax\u001b[39m.\u001b[39mtree_map(\u001b[39mlambda\u001b[39;00m x: jnp\u001b[39m.\u001b[39mzeros_like(x), params)\n\u001b[1;32m      <a href='vscode-notebook-cell:/home/nimahsn/Documents/pinns_jax/poisson.ipynb#X16sZmlsZQ%3D%3D?line=4'>5</a>\u001b[0m \u001b[39mfor\u001b[39;00m epoch \u001b[39min\u001b[39;00m \u001b[39mrange\u001b[39m(n_epochs):\n\u001b[0;32m----> <a href='vscode-notebook-cell:/home/nimahsn/Documents/pinns_jax/poisson.ipynb#X16sZmlsZQ%3D%3D?line=5'>6</a>\u001b[0m     params, opt_state, loss \u001b[39m=\u001b[39m update(params, opt_state, lr, momentum, x_colloc, x_bndry, y_colloc, y_bndry)\n\u001b[1;32m      <a href='vscode-notebook-cell:/home/nimahsn/Documents/pinns_jax/poisson.ipynb#X16sZmlsZQ%3D%3D?line=6'>7</a>\u001b[0m     \u001b[39mif\u001b[39;00m epoch \u001b[39m%\u001b[39m \u001b[39m1000\u001b[39m \u001b[39m==\u001b[39m \u001b[39m0\u001b[39m:\n\u001b[1;32m      <a href='vscode-notebook-cell:/home/nimahsn/Documents/pinns_jax/poisson.ipynb#X16sZmlsZQ%3D%3D?line=7'>8</a>\u001b[0m         \u001b[39mprint\u001b[39m(\u001b[39mf\u001b[39m\u001b[39m'\u001b[39m\u001b[39mEpoch \u001b[39m\u001b[39m{\u001b[39;00mepoch\u001b[39m}\u001b[39;00m\u001b[39m, Loss \u001b[39m\u001b[39m{\u001b[39;00mloss\u001b[39m:\u001b[39;00m\u001b[39m.4f\u001b[39m\u001b[39m}\u001b[39;00m\u001b[39m'\u001b[39m)\n",
      "\u001b[0;31mKeyboardInterrupt\u001b[0m: "
     ]
    }
   ],
   "source": [
    "n_epochs = 100000\n",
    "lr = 1e-4\n",
    "momentum = 0.99\n",
    "opt_state = jax.tree_map(lambda x: jnp.zeros_like(x), params)\n",
    "for epoch in range(n_epochs):\n",
    "    params, opt_state, loss = update(params, opt_state, lr, momentum, x_colloc, x_bndry, y_colloc, y_bndry)\n",
    "    if epoch % 1000 == 0:\n",
    "        print(f'Epoch {epoch}, Loss {loss:.4f}')\n",
    "        lr *= 0.95\n",
    "# for epoch in range(n_epochs):\n",
    "#     params, loss = update(params, x_colloc, x_bndry, y_colloc, y_bndry)\n",
    "#     if epoch % 1000 == 0:\n",
    "#         print(f'Epoch {epoch}, Loss {loss:.4f}')"
   ]
  },
  {
   "cell_type": "code",
   "execution_count": null,
   "metadata": {
    "ExecuteTime": {
     "end_time": "2023-09-07T18:50:49.313492238Z",
     "start_time": "2023-09-07T18:50:48.954696524Z"
    }
   },
   "outputs": [
    {
     "data": {
      "text/plain": [
       "<matplotlib.legend.Legend at 0x7f9e880529a0>"
      ]
     },
     "execution_count": 10,
     "metadata": {},
     "output_type": "execute_result"
    },
    {
     "data": {
      "image/png": "[encoded data removed]",
      "text/plain": [
       "<Figure size 640x480 with 1 Axes>"
      ]
     },
     "metadata": {},
     "output_type": "display_data"
    }
   ],
   "source": [
    "plt.plot(x_colloc, forward(params, x_colloc), label='pred')\n",
    "plt.plot(x_colloc, u_exact, label='exact')\n",
    "plt.legend()"
   ]
  },
  {
   "cell_type": "code",
   "execution_count": null,
   "metadata": {},
   "outputs": [],
   "source": []
  }
 ],
 "metadata": {
  "kernelspec": {
   "display_name": "jax",
   "language": "python",
   "name": "python3"
  },
  "language_info": {
   "codemirror_mode": {
    "name": "ipython",
    "version": 3
   },
   "file_extension": ".py",
   "mimetype": "text/x-python",
   "name": "python",
   "nbconvert_exporter": "python",
   "pygments_lexer": "ipython3",
   "version": "3.9.17"
  },
  "orig_nbformat": 4
 },
 "nbformat": 4,
 "nbformat_minor": 2
}
