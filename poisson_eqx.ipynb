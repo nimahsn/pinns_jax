{
 "cells": [
  {
   "cell_type": "code",
   "execution_count": 1,
   "id": "initial_id",
   "metadata": {
    "ExecuteTime": {
     "end_time": "2023-09-07T21:21:51.723717542Z",
     "start_time": "2023-09-07T21:21:51.037260130Z"
    },
    "collapsed": true
   },
   "outputs": [],
   "source": [
    "import jax, jax.numpy as jnp\n",
    "import optax\n",
    "from jax import random, grad, jacfwd, jit, vmap\n",
    "import equinox as eqx\n",
    "import matplotlib.pyplot as plt\n",
    "import optax as op\n",
    "import os, sys, time\n",
    "from functools import partial"
   ]
  },
  {
   "cell_type": "code",
   "execution_count": 2,
   "id": "19b42155eb3b22d2",
   "metadata": {
    "ExecuteTime": {
     "end_time": "2023-09-07T21:21:52.157562129Z",
     "start_time": "2023-09-07T21:21:52.155560029Z"
    },
    "collapsed": false
   },
   "outputs": [],
   "source": [
    "def laplace_operator(model):\n",
    "    return vmap(jacfwd(jacfwd(model, argnums=0), argnums=0), in_axes=0)\n",
    "\n",
    "def loss_residual_poisson(model, t, y):\n",
    "    return jnp.sum((laplace_operator(model)(t) - y)**2)\n",
    "\n",
    "def loss_boundary_poisson(model, t, u):\n",
    "    return jnp.mean((model(t) - u)**2)    "
   ]
  },
  {
   "cell_type": "code",
   "execution_count": 3,
   "id": "ae24a8c1bb797003",
   "metadata": {
    "ExecuteTime": {
     "end_time": "2023-09-07T21:21:54.199263788Z",
     "start_time": "2023-09-07T21:21:52.734145286Z"
    },
    "collapsed": false
   },
   "outputs": [],
   "source": [
    "x_key, y_key = random.split(random.PRNGKey(0))\n",
    "x = random.uniform(x_key, (1, 1), minval=-1., maxval=1.)\n",
    "y = jnp.sin(x)"
   ]
  },
  {
   "cell_type": "code",
   "execution_count": 4,
   "id": "7d93bc9f",
   "metadata": {},
   "outputs": [],
   "source": [
    "keys = random.split(random.PRNGKey(0), 3)\n",
    "pinn = eqx.nn.Sequential([\n",
    "    eqx.nn.Linear(1, 10, key=keys[0]),\n",
    "    eqx.nn.Lambda(jax.nn.tanh),\n",
    "    eqx.nn.Linear(10, 1, key=keys[2])])"
   ]
  },
  {
   "cell_type": "code",
   "execution_count": 5,
   "id": "eabe4570",
   "metadata": {},
   "outputs": [
    {
     "data": {
      "text/plain": [
       "Array([[ 1.7511047e-03,  3.7859907e-05, -9.9056400e-03, -3.6682673e-02,\n",
       "        -1.1085793e-03,  3.1637501e-02, -9.4369409e-04,  1.3873098e-02,\n",
       "        -1.9107487e-02, -4.4103645e-02]], dtype=float32)"
      ]
     },
     "execution_count": 5,
     "metadata": {},
     "output_type": "execute_result"
    }
   ],
   "source": [
    "eqx.filter_grad(loss_residual_poisson)(pinn, x, y).layers[2].weight"
   ]
  },
  {
   "cell_type": "code",
   "execution_count": 6,
   "id": "5546b829",
   "metadata": {},
   "outputs": [
    {
     "data": {
      "text/plain": [
       "Array([[ 1.7511046e-03,  3.7859911e-05, -9.9056391e-03, -3.6682677e-02,\n",
       "        -1.1085737e-03,  3.1637501e-02, -9.4369409e-04,  1.3873094e-02,\n",
       "        -1.9107487e-02, -4.4103649e-02]], dtype=float32)"
      ]
     },
     "execution_count": 6,
     "metadata": {},
     "output_type": "execute_result"
    }
   ],
   "source": [
    "2 * (laplace_operator(pinn)(x).ravel() - y) * vmap(vmap(grad(grad(jnp.tanh)), in_axes=0),in_axes=0)(x @ pinn.layers[0].weight.T + pinn.layers[0].bias) * (pinn.layers[0].weight.T ** 2)"
   ]
  },
  {
   "cell_type": "code",
   "execution_count": 86,
   "id": "f536e2a7",
   "metadata": {},
   "outputs": [
    {
     "data": {
      "text/plain": [
       "Array([[ 0.00534572],\n",
       "       [-0.00030895],\n",
       "       [ 0.02145175],\n",
       "       [-0.00532079],\n",
       "       [ 0.00334739],\n",
       "       [ 0.02240073],\n",
       "       [-0.00480167],\n",
       "       [-0.01863186],\n",
       "       [-0.00197127],\n",
       "       [-0.03655439]], dtype=float32)"
      ]
     },
     "execution_count": 86,
     "metadata": {},
     "output_type": "execute_result"
    }
   ],
   "source": [
    "eqx.filter_grad(loss_residual_poisson)(pinn, x, y).layers[0].weight"
   ]
  },
  {
   "cell_type": "code",
   "execution_count": 83,
   "id": "989fc067",
   "metadata": {},
   "outputs": [
    {
     "data": {
      "text/plain": [
       "Array([[ 0.00534572, -0.00030895,  0.02145175, -0.00532079,  0.00334739,\n",
       "         0.02240073, -0.00480167, -0.01863185, -0.00197127, -0.03655439]],      dtype=float32)"
      ]
     },
     "execution_count": 83,
     "metadata": {},
     "output_type": "execute_result"
    }
   ],
   "source": [
    "W_1 = pinn.layers[0].weight.T\n",
    "W_2 = pinn.layers[2].weight.T\n",
    "b_1 = pinn.layers[0].bias\n",
    "b_2 = pinn.layers[2].bias\n",
    "\n",
    "2 * (laplace_operator(pinn)(x).ravel() - y) *\\\n",
    "    (W_2.T * vmap(vmap(grad(grad(jnp.tanh)), in_axes=0),in_axes=0)(x @ W_1 + b_1) * (2 * W_1) +\\\n",
    "     W_2.T *  W_1 ** 2 * x * vmap(vmap(grad(grad(grad(jnp.tanh))), in_axes=0),in_axes=0)(x @ W_1 + b_1))"
   ]
  },
  {
   "cell_type": "code",
   "execution_count": 70,
   "id": "6fb7e2e2",
   "metadata": {},
   "outputs": [
    {
     "data": {
      "text/plain": [
       "Array([[-0.19146267]], dtype=float32)"
      ]
     },
     "execution_count": 70,
     "metadata": {},
     "output_type": "execute_result"
    }
   ],
   "source": []
  },
  {
   "cell_type": "code",
   "execution_count": 61,
   "id": "9a75b851",
   "metadata": {},
   "outputs": [
    {
     "data": {
      "text/plain": [
       "Array([[0.01843224]], dtype=float32)"
      ]
     },
     "execution_count": 61,
     "metadata": {},
     "output_type": "execute_result"
    }
   ],
   "source": [
    "(pinn.layers[2].weight * vmap(vmap(grad(grad(jnp.tanh)), in_axes=0),in_axes=0)(x @ pinn.layers[0].weight.T + pinn.layers[0].bias)) @ (pinn.layers[0].weight ** 2)"
   ]
  },
  {
   "cell_type": "code",
   "execution_count": null,
   "id": "97a8ff38",
   "metadata": {},
   "outputs": [],
   "source": []
  },
  {
   "cell_type": "code",
   "execution_count": 5,
   "id": "88303778514ce137",
   "metadata": {
    "ExecuteTime": {
     "end_time": "2023-09-07T21:21:54.217591893Z",
     "start_time": "2023-09-07T21:21:54.203494488Z"
    },
    "collapsed": false
   },
   "outputs": [],
   "source": [
    "# BATCH_SIZE = 100\n",
    "# x = x.reshape((-1, BATCH_SIZE, 1))\n",
    "# y = y.reshape((-1, BATCH_SIZE, 1))"
   ]
  },
  {
   "cell_type": "code",
   "execution_count": 10,
   "id": "40f0c7a5f9c42f60",
   "metadata": {
    "ExecuteTime": {
     "end_time": "2023-09-07T21:22:08.286175557Z",
     "start_time": "2023-09-07T21:22:08.282037961Z"
    },
    "collapsed": false
   },
   "outputs": [],
   "source": [
    "def loss(model, x, y):\n",
    "    pred_y = jax.vmap(model)(x)\n",
    "    return jnp.mean((pred_y - y)**2)\n",
    "\n",
    "def fit(model, optimizer: optax.GradientTransformation):\n",
    "    opt_state = optimizer.init(eqx.filter(model, eqx.is_array))\n",
    "    \n",
    "    @eqx.filter_jit\n",
    "    def step(model, opt_state, batch, labels):\n",
    "        loss_value, grads = eqx.filter_value_and_grad(loss, has_aux=False)(model, batch, labels)\n",
    "        updates, opt_state = optimizer.update(grads, opt_state, model)\n",
    "        model = eqx.apply_updates(model, updates)\n",
    "        return model, opt_state, loss_value\n",
    "    \n",
    "    for i, (batch, labels) in enumerate(zip(x, y)):\n",
    "        model, opt_state, loss_value = step(model, opt_state, batch, labels)\n",
    "        if i % 100 == 0:\n",
    "            print(f\"Step {i}, loss = {loss_value}\")\n",
    "            \n",
    "    return model\n",
    "\n"
   ]
  },
  {
   "cell_type": "code",
   "execution_count": 11,
   "id": "9f527c96fc0eb33",
   "metadata": {
    "ExecuteTime": {
     "end_time": "2023-09-07T21:22:34.220403516Z",
     "start_time": "2023-09-07T21:22:32.917626487Z"
    },
    "collapsed": false
   },
   "outputs": [],
   "source": [
    "keys = random.split(random.PRNGKey(0), 3)\n",
    "pinn = eqx.nn.Sequential([\n",
    "    eqx.nn.Linear(1, 100, key=keys[0]),\n",
    "    eqx.nn.Lambda(jax.nn.tanh),\n",
    "    # eqx.nn.Linear(100, 100, key=keys[1]),\n",
    "    # eqx.nn.Lambda(jax.nn.tanh),\n",
    "    eqx.nn.Linear(100, 1, key=keys[2])])\n",
    "# params, static = eqx.partition(pinn, eqx.is_array)\n",
    "# optimizer = optax.adam(1e-2)\n",
    "# pinn = fit(pinn, optimizer)"
   ]
  },
  {
   "cell_type": "code",
   "execution_count": null,
   "id": "1887b445",
   "metadata": {},
   "outputs": [],
   "source": []
  }
 ],
 "metadata": {
  "kernelspec": {
   "display_name": "Python 3",
   "language": "python",
   "name": "python3"
  },
  "language_info": {
   "codemirror_mode": {
    "name": "ipython",
    "version": 3
   },
   "file_extension": ".py",
   "mimetype": "text/x-python",
   "name": "python",
   "nbconvert_exporter": "python",
   "pygments_lexer": "ipython3",
   "version": "3.9.17"
  }
 },
 "nbformat": 4,
 "nbformat_minor": 5
}
